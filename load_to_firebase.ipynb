{
 "cells": [
  {
   "cell_type": "code",
   "execution_count": 1,
   "metadata": {},
   "outputs": [],
   "source": [
    "import requests\n",
    "import json\n",
    "url ='https://vaccination-6fa56-default-rtdb.firebaseio.com/'\n",
    "\n",
    "import sys\n",
    "inFile = sys.argv[1]\n",
    "outFile = sys.argv[2]"
   ]
  },
  {
   "cell_type": "code",
   "execution_count": 15,
   "metadata": {},
   "outputs": [],
   "source": [
    "with open ('../admin.json') as data_file: \n",
    "    admin = json.load(data_file)\n",
    "with open ('../user.json') as data_file: \n",
    "    user = json.load(data_file)\n",
    "with open ('../provider.json') as data_file: \n",
    "    provider = json.load(data_file)"
   ]
  },
  {
   "cell_type": "code",
   "execution_count": 16,
   "metadata": {},
   "outputs": [],
   "source": [
    "admin_put = requests.put(url+'admin.json', json=admin)\n",
    "admin_put = requests.put(url+'user.json', json=user)\n",
    "admin_put = requests.put(url+'provider.json', json=provider)"
   ]
  },
  {
   "cell_type": "code",
   "execution_count": 32,
   "metadata": {},
   "outputs": [],
   "source": [
    "chats_put = requests.put('https://dsci551-hw1-8964e-default-rtdb.firebaseio.com/roster.json', json=roster)"
   ]
  }
 ],
 "metadata": {
  "kernelspec": {
   "display_name": "Python 3",
   "language": "python",
   "name": "python3"
  },
  "language_info": {
   "codemirror_mode": {
    "name": "ipython",
    "version": 3
   },
   "file_extension": ".py",
   "mimetype": "text/x-python",
   "name": "python",
   "nbconvert_exporter": "python",
   "pygments_lexer": "ipython3",
   "version": "3.7.6"
  }
 },
 "nbformat": 4,
 "nbformat_minor": 4
}
