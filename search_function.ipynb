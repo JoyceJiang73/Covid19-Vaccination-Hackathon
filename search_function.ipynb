{
 "cells": [
  {
   "cell_type": "code",
   "execution_count": 3,
   "metadata": {},
   "outputs": [],
   "source": [
    "import requests\n",
    "import json\n",
    "url ='https://vaccination-6fa56-default-rtdb.firebaseio.com/'\n",
    "\n",
    "import sys\n",
    "inFile = sys.argv[1]\n",
    "outFile = sys.argv[2]"
   ]
  },
  {
   "cell_type": "code",
   "execution_count": 88,
   "metadata": {},
   "outputs": [],
   "source": [
    "x = 'Yanru jiang'\n",
    "name =''\n",
    "for w in x.split(' '):\n",
    "    name =name+' '+w.capitalize()\n",
    "name=name[1:]"
   ]
  },
  {
   "cell_type": "code",
   "execution_count": 4,
   "metadata": {},
   "outputs": [],
   "source": [
    "message=requests.get(url+'user/0/User Info/Name.json')"
   ]
  },
  {
   "cell_type": "code",
   "execution_count": 5,
   "metadata": {},
   "outputs": [
    {
     "data": {
      "text/plain": [
       "'\"John Doe\"'"
      ]
     },
     "execution_count": 5,
     "metadata": {},
     "output_type": "execute_result"
    }
   ],
   "source": [
    "message.text"
   ]
  },
  {
   "cell_type": "code",
   "execution_count": null,
   "metadata": {},
   "outputs": [],
   "source": []
  },
  {
   "cell_type": "code",
   "execution_count": null,
   "metadata": {},
   "outputs": [],
   "source": []
  },
  {
   "cell_type": "code",
   "execution_count": null,
   "metadata": {},
   "outputs": [],
   "source": [
    "message=requests.get(url+'user/0/User Info.json?orderBy=\"Person\"&equalTo=\"'+str(name)+'\"')"
   ]
  },
  {
   "cell_type": "code",
   "execution_count": 90,
   "metadata": {},
   "outputs": [
    {
     "data": {
      "text/plain": [
       "'{\"250\":{\"Message\":\"should we stop the EC2 when we finish the setup\",\"Person\":\"Yanru Jiang\",\"Time\":\"03:17:30\"},\"55\":{\"Message\":\"1\",\"Person\":\"Yanru Jiang\",\"Time\":\"00:07:47\"},\"248\":{\"Message\":\"no\",\"Person\":\"Yanru Jiang\",\"Time\":\"03:09:39\"},\"96\":{\"Message\":\"1\",\"Person\":\"Yanru Jiang\",\"Time\":\"00:18:42\"},\"225\":{\"Message\":\"1\",\"Person\":\"Yanru Jiang\",\"Time\":\"02:51:32\"}}'"
      ]
     },
     "execution_count": 90,
     "metadata": {},
     "output_type": "execute_result"
    }
   ],
   "source": [
    "message.text"
   ]
  },
  {
   "cell_type": "code",
   "execution_count": 91,
   "metadata": {},
   "outputs": [],
   "source": [
    "messages=json.loads(message.text)"
   ]
  },
  {
   "cell_type": "code",
   "execution_count": 92,
   "metadata": {},
   "outputs": [
    {
     "name": "stdout",
     "output_type": "stream",
     "text": [
      "03:17:30  should we stop the EC2 when we finish the setup\n",
      "00:07:47  1\n",
      "03:09:39  no\n",
      "00:18:42  1\n",
      "02:51:32  1\n"
     ]
    }
   ],
   "source": [
    "for key in messages:\n",
    "    print(messages[key]['Time']+\"  \"+messages[key]['Message'])"
   ]
  },
  {
   "cell_type": "code",
   "execution_count": null,
   "metadata": {},
   "outputs": [],
   "source": []
  }
 ],
 "metadata": {
  "kernelspec": {
   "display_name": "Python 3",
   "language": "python",
   "name": "python3"
  },
  "language_info": {
   "codemirror_mode": {
    "name": "ipython",
    "version": 3
   },
   "file_extension": ".py",
   "mimetype": "text/x-python",
   "name": "python",
   "nbconvert_exporter": "python",
   "pygments_lexer": "ipython3",
   "version": "3.7.6"
  }
 },
 "nbformat": 4,
 "nbformat_minor": 4
}
